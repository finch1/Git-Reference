{
 "cells": [
  {
   "cell_type": "markdown",
   "metadata": {},
   "source": [
    "# Git Is Distributed\n",
    "Local repos can sync with other repos\n",
    "\n",
    "<img src=\"Fig A.png\">"
   ]
  },
  {
   "cell_type": "markdown",
   "metadata": {},
   "source": [
    "## Settings\n",
    "- Name\n",
    "- Email\n",
    "- Default Editor\n",
    "- Line Endings\n",
    "\n",
    "## System Sttings\n",
    "All users\n",
    "\n",
    "## Global Settings\n",
    "All repos of current user\n",
    "> git config --global user.name \"\"\n",
    "\n",
    "> git config --global user.email\n",
    "\n",
    "> git config --global core.editor \"code --wait\" -> # --wait = waits until editor is closed before saving settings\"\n",
    "\n",
    "> git config --global -e -> # opens configs in default editor\n",
    "\n",
    "End of line feeds differe between Win, Lin, Mac\n",
    "Win: \\r\\n = carriage return\\line feed. Set to true\n",
    "Lin & Mac: \\n = line feed. Set to input\n",
    "\n",
    "> git config --global core.autocrlf true\n",
    "\n",
    "## Local settings\n",
    "The current repo\n"
   ]
  },
  {
   "cell_type": "markdown",
   "metadata": {},
   "source": [
    "# Getting Started\n",
    "\n",
    "> mkdir Repo\n",
    "\n",
    "> cd Repo\n",
    "\n",
    "> git init -> # initialises a new git repo"
   ]
  },
  {
   "cell_type": "markdown",
   "metadata": {},
   "source": [
    "# Workflow Concept\n",
    "\n",
    "<img src=\"Fig B.png\">\n",
    "\n",
    "After commit, staging area keeps last records. New *add .* compares changes and updates the staging area.\n",
    "\n",
    "<img src=\"Fig C.png\">"
   ]
  },
  {
   "cell_type": "markdown",
   "metadata": {},
   "source": [
    "<img src=\"Fig D.png\">"
   ]
  },
  {
   "cell_type": "markdown",
   "metadata": {},
   "source": [
    "# Staging\n",
    "\n",
    "> git add file1.txt file2.txt\n",
    "\n",
    "> git add *.txt\n",
    "\n",
    "> git add .\n",
    "\n",
    "<img src=\"Fig E.png\">"
   ]
  },
  {
   "cell_type": "markdown",
   "metadata": {},
   "source": [
    "## Renaming & Removing files\n",
    "> git rm file1.txt -> # removes file from local dir **and** staging area in one command\n",
    "\n",
    "> git mv .\\file1.txt .\\file01.txt -> # renames file in local dir **and** staging area in one command\n",
    "\n",
    "<img src=\"Fig F.png\">"
   ]
  },
  {
   "cell_type": "markdown",
   "metadata": {},
   "source": [
    "## Ignoring files and folders - Prior to tracking\n",
    "\n",
    "> code .gitignore -> # creates a file in the main repo using vscode\n",
    "\n",
    "- A new dir was created\n",
    "- git identified new dir as untracked\n",
    "- .gitignore was created. ignore list added **before** files and folders **tracking**\n",
    "- git identified what to ignore and only captured .gitignore\n",
    "\n",
    "<img src=\"Fig G.png\">"
   ]
  },
  {
   "cell_type": "markdown",
   "metadata": {},
   "source": [
    "## Ignoring files and folders - After tracking\n",
    "\n",
    "> git ls-files -> # shows files and folders in staging \n",
    "\n",
    "> git rm --cached -r [file/folder] -> # removes files and folders in staging "
   ]
  },
  {
   "cell_type": "markdown",
   "metadata": {},
   "source": [
    "# Remove and revert uncommitted Git changes\n",
    "To remove all uncommited changes and revert their Git working tree back to the state it was in when the last commit took place:\n",
    "\n",
    "**git reset –hard**\n",
    "\n",
    "**git clean -fxd**\n",
    "\n",
    "The git reset –hard command will revert uncommitted changes that exist in files that have been added to the index, whether those files are newly created files, or files that were added to the index in the past and have been edited since the last commit. However, if any new files have been created in the Git repository that have never been added to the index, these files will remain in the project folder after the hard reset. To remove these files, the git clean -fxd command is needed."
   ]
  },
  {
   "cell_type": "markdown",
   "metadata": {},
   "source": [
    "### Short Status Command\n",
    "\n",
    "<img src=\"Fig H.Png\">"
   ]
  },
  {
   "cell_type": "markdown",
   "metadata": {},
   "source": [
    "## Git Diff - Compare changes\n",
    "\n",
    "> git diff -> # to see what is in the local area before the next staging\n",
    "\n",
    "> git diff --staged -> # to see what is in the staging area before the next commit\n",
    "\n",
    "<img src=\"Fig I.png\">\n"
   ]
  },
  {
   "cell_type": "markdown",
   "metadata": {},
   "source": [
    "## VS Code for comparing files\n",
    "> git config --global diff.tool vscode -> # configure vs code as the default diff tool\n",
    "\n",
    "> git config --global difftool.vscode.cmd \"code --wait --diff $LOCAL $REMOTE\"-> # tell git gow to launch vs code --diff = we want the tool to compare $L $R placeholders for old and new copy of file\n",
    "\n",
    "> git difftool -> # launch comparison tool to compare local vs staged\n",
    "\n",
    ">> git difftool --staged -> # launch comparison tool to compare staged vs commited\n"
   ]
  },
  {
   "cell_type": "markdown",
   "metadata": {},
   "source": [
    "## Git Log\n",
    "\n",
    "> git log -> # shows full log history. Use space for more and q to quit\n",
    "\n",
    "> git log --oneline -> # small version of log"
   ]
  },
  {
   "cell_type": "markdown",
   "metadata": {},
   "source": [
    "## Copy\n",
    "\n",
    "> cp -r oldFolder newFolder -> # -r = recursive files and folders"
   ]
  }
 ],
 "metadata": {
  "kernelspec": {
   "display_name": "Python 3.9.6 64-bit",
   "language": "python",
   "name": "python3"
  },
  "language_info": {
   "name": "python",
   "version": "3.9.6"
  },
  "orig_nbformat": 4,
  "vscode": {
   "interpreter": {
    "hash": "375aac7530e8c831bb65c3879b007db700405b020969fd2f9eab2e4f4141ee0a"
   }
  }
 },
 "nbformat": 4,
 "nbformat_minor": 2
}
