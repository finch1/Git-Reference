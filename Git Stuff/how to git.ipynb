{
 "cells": [
  {
   "cell_type": "markdown",
   "metadata": {},
   "source": [
    "# Remove and revert uncommitted Git changes\n",
    "To remove all uncommited changes and revert their Git working tree back to the state it was in when the last commit took place:\n",
    "\n",
    "**git reset –hard**\n",
    "\n",
    "**git clean -fxd**\n",
    "\n",
    "The git reset –hard command will revert uncommitted changes that exist in files that have been added to the index, whether those files are newly created files, or files that were added to the index in the past and have been edited since the last commit. However, if any new files have been created in the Git repository that have never been added to the index, these files will remain in the project folder after the hard reset. To remove these files, the git clean -fxd command is needed."
   ]
  },
  {
   "cell_type": "markdown",
   "metadata": {},
   "source": [
    "# Remove folder\n",
    "**cp -r oldFolder newFolder**\n",
    "\n",
    "**git rm -r oldFolder**\n",
    "\n",
    "-r = recursive files and folders"
   ]
  },
  {
   "cell_type": "markdown",
   "metadata": {},
   "source": [
    "# Git Ignore\n",
    "\n",
    "- configure\n",
    "\n",
    "git config core.excludefile ~/.gitignore\n",
    "\n",
    "\n",
    "- confirm\n",
    "\n",
    "git config core.excludefile"
   ]
  }
 ],
 "metadata": {
  "kernelspec": {
   "display_name": "Python 3.10.0 64-bit",
   "language": "python",
   "name": "python3"
  },
  "language_info": {
   "name": "python",
   "version": "3.10.0"
  },
  "orig_nbformat": 4,
  "vscode": {
   "interpreter": {
    "hash": "988c5f4323dd83b4d3649540165e82fe7dd7552b482fe14e976650862edffb47"
   }
  }
 },
 "nbformat": 4,
 "nbformat_minor": 2
}
