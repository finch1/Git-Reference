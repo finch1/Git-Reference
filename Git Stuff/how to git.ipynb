{
 "cells": [
  {
   "cell_type": "markdown",
   "metadata": {},
   "source": [
    "# Git Is Distributed\n",
    "Local repos can sync with other repos"
   ]
  },
  {
   "cell_type": "markdown",
   "metadata": {},
   "source": [
    "<img src=\"Fig A.png\">"
   ]
  },
  {
   "cell_type": "markdown",
   "metadata": {},
   "source": [
    "## Settings\n",
    "- Name\n",
    "- Email\n",
    "- Default Editor\n",
    "- Line Endings\n",
    "\n",
    "## System Sttings\n",
    "All users\n",
    "\n",
    "## Global Settings\n",
    "All repos of current user\n",
    "> git config --global user.name \"\"\n",
    "\n",
    "> git config --global user.email\n",
    "\n",
    "> git config --global core.editor \"code --wait\" -> # --wait = waits until editor is closed before saving settings\"\n",
    "\n",
    "> git config --global -e -> # opens configs in default editor\n",
    "\n",
    "End of line feeds differe between Win, Lin, Mac\n",
    "Win: \\r\\n = carriage return\\line feed. Set to true\n",
    "Lin & Mac: \\n = line feed. Set to input\n",
    "\n",
    "> git config --global core.autocrlf true\n",
    "\n",
    "## Local settings\n",
    "Effects the current repo\n"
   ]
  },
  {
   "cell_type": "markdown",
   "metadata": {},
   "source": [
    "# Getting Started\n",
    "\n",
    "> mkdir Repo\n",
    "\n",
    "> cd Repo\n",
    "\n",
    "> git init -> # initialises a new git repo"
   ]
  },
  {
   "cell_type": "markdown",
   "metadata": {},
   "source": [
    "# Workflow Concept\n",
    "\n",
    "<img src=\"Fig B.png\">\n",
    "\n",
    "After commit, staging area keeps last records. New *add .* compares changes and updates the staging area.\n",
    "\n",
    "<img src=\"Fig C.png\">\n",
    "\n",
    "<img src=\"Fig D.png\">"
   ]
  },
  {
   "cell_type": "markdown",
   "metadata": {},
   "source": [
    "# Staging\n",
    "\n",
    "> git add file1.txt file2.txt\n",
    "\n",
    "> git add *.txt\n",
    "\n",
    "> git add ."
   ]
  },
  {
   "cell_type": "markdown",
   "metadata": {},
   "source": [
    "<img src=\"Fig E.png\">"
   ]
  },
  {
   "cell_type": "markdown",
   "metadata": {},
   "source": [
    "## Renaming & Removing files\n",
    "> git rm file1.txt -> # removes file from local dir **and** staging area in one command\n",
    "\n",
    "> git mv .\\file1.txt .\\file01.txt -> # renames file in local dir **and** staging area in one command"
   ]
  },
  {
   "cell_type": "markdown",
   "metadata": {},
   "source": [
    "<img src=\"Fig F.png\">"
   ]
  },
  {
   "cell_type": "markdown",
   "metadata": {},
   "source": [
    "## Ignoring files and folders - Prior to tracking\n",
    "\n",
    "> code .gitignore -> # creates a file in the main repo using vscode\n",
    "\n",
    "- A new dir was created\n",
    "- git identified new dir as untracked\n",
    "- .gitignore was created. ignore list added **before** files and folders **tracking**\n",
    "- git identified what to ignore and only captured .gitignore"
   ]
  },
  {
   "cell_type": "markdown",
   "metadata": {},
   "source": [
    "<img src=\"Fig G.png\">"
   ]
  },
  {
   "cell_type": "markdown",
   "metadata": {},
   "source": [
    "## Ignoring files and folders - After tracking\n",
    "\n",
    "> git ls-files -> # shows files and folders in staging \n",
    "\n",
    "> git rm --cached -r [file/folder] -> # removes files and folders in staging "
   ]
  },
  {
   "cell_type": "markdown",
   "metadata": {},
   "source": [
    "# Remove and revert uncommitted Git changes\n",
    "To remove all uncommited changes and revert their Git working tree back to the state it was in when the last commit took place:\n",
    "\n",
    "**git reset –hard**\n",
    "\n",
    "**git clean -fxd**\n",
    "\n",
    "The git reset –hard command will revert uncommitted changes that exist in files that have been added to the index, whether those files are newly created files, or files that were added to the index in the past and have been edited since the last commit. However, if any new files have been created in the Git repository that have never been added to the index, these files will remain in the project folder after the hard reset. To remove these files, the git clean -fxd command is needed."
   ]
  },
  {
   "cell_type": "markdown",
   "metadata": {},
   "source": [
    "# Restoring from Staging\n",
    "\n",
    "> git restore --staged [filename]\n",
    "\n",
    "After restoring, file in staging is lost. The same commited file (if exists) gets pushed to staging. This makes sense, we remove staging and stage the new file."
   ]
  },
  {
   "cell_type": "markdown",
   "metadata": {},
   "source": [
    "<img src=\"Fig J.png\">"
   ]
  },
  {
   "cell_type": "markdown",
   "metadata": {},
   "source": [
    "# Restoring from Commit\n",
    "\n",
    "> git restore [filename]"
   ]
  },
  {
   "cell_type": "markdown",
   "metadata": {},
   "source": [
    "<img src=\"Fig K.png\">"
   ]
  },
  {
   "cell_type": "markdown",
   "metadata": {},
   "source": [
    "# Restoring file to an earlier version\n",
    "\n",
    "> git restore --source=HEAD~1 file01.txt -> # restores from commit, specifying offset\n",
    "\n",
    "> git clean -fd -> # removed untracked files permanently"
   ]
  },
  {
   "cell_type": "markdown",
   "metadata": {},
   "source": [
    "### Short Status Command\n",
    "\n",
    "<img src=\"Fig H.Png\">"
   ]
  },
  {
   "cell_type": "markdown",
   "metadata": {},
   "source": [
    "## Git Diff - Compare changes\n",
    "\n",
    "> git diff -> # to see what is in the local area before the next staging\n",
    "\n",
    "> git diff --staged -> # to see what is in the staging area before the next commit"
   ]
  },
  {
   "cell_type": "markdown",
   "metadata": {},
   "source": [
    "<img src=\"Fig I.png\">"
   ]
  },
  {
   "cell_type": "markdown",
   "metadata": {},
   "source": [
    "## VS Code for comparing files\n",
    "> git config --global diff.tool vscode -> # configure vs code as the default diff tool\n",
    "\n",
    "> git config --global difftool.vscode.cmd \"code --wait --diff $LOCAL $REMOTE\"-> # tell git gow to launch vs code --diff = we want the tool to compare $L $R placeholders for old and new copy of file\n",
    "\n",
    "> git difftool -> # launch comparison tool to compare local vs staged\n",
    "\n",
    "> git difftool --staged -> # launch comparison tool to compare staged vs commited\n"
   ]
  },
  {
   "cell_type": "markdown",
   "metadata": {},
   "source": [
    "## Git Log\n",
    "\n",
    "> git log -> # shows full log history. Use space for more and q to quit\n",
    "\n",
    "> git log --stat -> # shows full history of changes and what was changed\n",
    "\n",
    "> git log --oneline -> # small version of \n",
    "\n",
    "> git log --oneline --stat -> # --stat shows more details of changes in short version\n",
    "\n",
    "> git log --oneline --patch -> # --patch shows the diff in logs in short version\n",
    "\n",
    "> git log --oneline -3 -> # shows last 3 commits\n",
    "\n",
    "> git log --oneline --author=\"\" -> # filter by author\n",
    "\n",
    "> git log --oneline [filename] -> # filters log commits by file name\n",
    "\n",
    "> git show -> # details of the last change commited\n",
    "\n",
    "> git show [logHEX] -> # details for the log ID\n",
    "\n",
    "> git show HEAD~2 -> # view a commit. go to head and two steps back\n",
    "\n",
    "> git show HEAD~2:[folder\\file] -> # view what exactly was commited\n",
    "\n",
    "> git show HEAD~2 --name-only -> # view only file names edited or modified in this commit\n",
    "\n",
    "> git show HEAD~2 --name-status -> # view only file names edited or modified in this commit\n",
    "\n",
    "> git HEAD -> # details of where HEAD is pointed\n",
    "\n",
    "> git HEAD~1 -> # details of where HEAD is pointed offset by 1\n",
    "\n",
    "#### Deeper Logs, which i could not understand\n",
    "\n",
    "> git log HEAD~1:.gitignore\n",
    "\n",
    "> git ls-tree HEAD~1\n",
    "\n",
    "> git show [tree/blob ID]"
   ]
  },
  {
   "cell_type": "markdown",
   "metadata": {},
   "source": [
    "## Copy\n",
    "\n",
    "> cp -r oldFolder newFolder -> # -r = recursive files and folders"
   ]
  }
 ],
 "metadata": {
  "kernelspec": {
   "display_name": "Python 3.9.6 64-bit",
   "language": "python",
   "name": "python3"
  },
  "language_info": {
   "name": "python",
   "version": "3.9.6"
  },
  "orig_nbformat": 4,
  "vscode": {
   "interpreter": {
    "hash": "375aac7530e8c831bb65c3879b007db700405b020969fd2f9eab2e4f4141ee0a"
   }
  }
 },
 "nbformat": 4,
 "nbformat_minor": 2
}
